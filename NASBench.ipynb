{
  "cells": [
    {
      "cell_type": "code",
      "execution_count": null,
      "metadata": {
        "colab": {
          "base_uri": "https://localhost:8080/",
          "height": 853
        },
        "colab_type": "code",
        "id": "vl1oLYux3FhJ",
        "outputId": "260484df-3a86-48ef-88a4-f8e441d524bc"
      },
      "outputs": [],
      "source": [
        "from nasbench import api\n",
        "import torch\n",
        "from torch import nn\n",
        "from net import *\n",
        "from PersonGenerate import *\n",
        "from Graph import *\n",
        "from net import NasBench101Net\n",
        "%load_ext autoreload\n",
        "%autoreload 2"
      ]
    },
    {
      "cell_type": "code",
      "execution_count": null,
      "metadata": {},
      "outputs": [],
      "source": [
        "nasbench = api.NASBench('nasbench_full.tfrecord')"
      ]
    },
    {
      "cell_type": "code",
      "execution_count": null,
      "metadata": {},
      "outputs": [],
      "source": [
        "device = torch.device(\"cuda:1\" if torch.cuda.is_available() else \"cpu\")\n",
        "model=NasBench101Net().cuda()"
      ]
    },
    {
      "cell_type": "code",
      "execution_count": null,
      "metadata": {},
      "outputs": [],
      "source": [
        "matrix,ops=GeneratePerson()\n",
        "my_graph=create_undirected_matrix(ops,matrix)\n",
        "draw_undircted_graph(my_graph)"
      ]
    },
    {
      "cell_type": "code",
      "execution_count": null,
      "metadata": {
        "colab": {
          "base_uri": "https://localhost:8080/",
          "height": 258
        },
        "colab_type": "code",
        "id": "kZvm6i0VGP_M",
        "outputId": "2999b6a6-9f1d-4361-8be9-ee54afdb82be"
      },
      "outputs": [],
      "source": [
        "opss=[]\n",
        "for i in ops:\n",
        "    if i.find(\"#\"):\n",
        "        i=i[:-2]\n",
        "    opss.append(i)\n",
        "cell = api.ModelSpec(matrix=matrix,ops=opss)\n",
        "# Querying multiple times may yield different results. Each cell is evaluated 3\n",
        "# times at each epoch budget and querying will sample one randomly.\n",
        "data = nasbench.query(cell)\n",
        "print(data[\"test_accuracy\"])"
      ]
    }
  ],
  "metadata": {
    "colab": {
      "collapsed_sections": [],
      "name": "NASBench.ipynb",
      "provenance": [],
      "toc_visible": true
    },
    "kernelspec": {
      "display_name": "Python 3",
      "name": "python3"
    },
    "language_info": {
      "codemirror_mode": {
        "name": "ipython",
        "version": 3
      },
      "file_extension": ".py",
      "mimetype": "text/x-python",
      "name": "python",
      "nbconvert_exporter": "python",
      "pygments_lexer": "ipython3",
      "version": "3.8.13"
    }
  },
  "nbformat": 4,
  "nbformat_minor": 0
}
